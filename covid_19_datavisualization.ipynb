{
  "nbformat": 4,
  "nbformat_minor": 0,
  "metadata": {
    "colab": {
      "provenance": []
    },
    "kernelspec": {
      "name": "python3",
      "display_name": "Python 3"
    },
    "language_info": {
      "name": "python"
    }
  },
  "cells": [
    {
      "cell_type": "code",
      "source": [
        "pip install dash"
      ],
      "metadata": {
        "colab": {
          "base_uri": "https://localhost:8080/"
        },
        "id": "qYTthoKqcFJQ",
        "outputId": "12f33af9-8106-4ce3-aed0-3ef521fc5c18"
      },
      "execution_count": null,
      "outputs": [
        {
          "output_type": "stream",
          "name": "stdout",
          "text": [
            "Looking in indexes: https://pypi.org/simple, https://us-python.pkg.dev/colab-wheels/public/simple/\n",
            "Collecting dash\n",
            "  Downloading dash-2.9.2-py3-none-any.whl (10.2 MB)\n",
            "\u001b[2K     \u001b[90m━━━━━━━━━━━━━━━━━━━━━━━━━━━━━━━━━━━━━━━━\u001b[0m \u001b[32m10.2/10.2 MB\u001b[0m \u001b[31m68.9 MB/s\u001b[0m eta \u001b[36m0:00:00\u001b[0m\n",
            "\u001b[?25hCollecting dash-table==5.0.0\n",
            "  Downloading dash_table-5.0.0-py3-none-any.whl (3.9 kB)\n",
            "Collecting dash-html-components==2.0.0\n",
            "  Downloading dash_html_components-2.0.0-py3-none-any.whl (4.1 kB)\n",
            "Requirement already satisfied: Flask>=1.0.4 in /usr/local/lib/python3.9/dist-packages (from dash) (2.2.3)\n",
            "Collecting dash-core-components==2.0.0\n",
            "  Downloading dash_core_components-2.0.0-py3-none-any.whl (3.8 kB)\n",
            "Requirement already satisfied: plotly>=5.0.0 in /usr/local/lib/python3.9/dist-packages (from dash) (5.13.1)\n",
            "Requirement already satisfied: Jinja2>=3.0 in /usr/local/lib/python3.9/dist-packages (from Flask>=1.0.4->dash) (3.1.2)\n",
            "Requirement already satisfied: itsdangerous>=2.0 in /usr/local/lib/python3.9/dist-packages (from Flask>=1.0.4->dash) (2.1.2)\n",
            "Requirement already satisfied: importlib-metadata>=3.6.0 in /usr/local/lib/python3.9/dist-packages (from Flask>=1.0.4->dash) (6.1.0)\n",
            "Requirement already satisfied: Werkzeug>=2.2.2 in /usr/local/lib/python3.9/dist-packages (from Flask>=1.0.4->dash) (2.2.3)\n",
            "Requirement already satisfied: click>=8.0 in /usr/local/lib/python3.9/dist-packages (from Flask>=1.0.4->dash) (8.1.3)\n",
            "Requirement already satisfied: tenacity>=6.2.0 in /usr/local/lib/python3.9/dist-packages (from plotly>=5.0.0->dash) (8.2.2)\n",
            "Requirement already satisfied: zipp>=0.5 in /usr/local/lib/python3.9/dist-packages (from importlib-metadata>=3.6.0->Flask>=1.0.4->dash) (3.15.0)\n",
            "Requirement already satisfied: MarkupSafe>=2.0 in /usr/local/lib/python3.9/dist-packages (from Jinja2>=3.0->Flask>=1.0.4->dash) (2.1.2)\n",
            "Installing collected packages: dash-table, dash-html-components, dash-core-components, dash\n",
            "Successfully installed dash-2.9.2 dash-core-components-2.0.0 dash-html-components-2.0.0 dash-table-5.0.0\n"
          ]
        }
      ]
    },
    {
      "cell_type": "code",
      "source": [
        " !pip install -U kaleido"
      ],
      "metadata": {
        "colab": {
          "base_uri": "https://localhost:8080/"
        },
        "id": "HRCnoOePiAHh",
        "outputId": "300e417c-3a1c-4a5a-b759-e843af0f497b"
      },
      "execution_count": null,
      "outputs": [
        {
          "output_type": "stream",
          "name": "stdout",
          "text": [
            "Looking in indexes: https://pypi.org/simple, https://us-python.pkg.dev/colab-wheels/public/simple/\n",
            "Requirement already satisfied: kaleido in /usr/local/lib/python3.9/dist-packages (0.2.1)\n"
          ]
        }
      ]
    },
    {
      "cell_type": "code",
      "execution_count": null,
      "metadata": {
        "colab": {
          "base_uri": "https://localhost:8080/"
        },
        "id": "IraLnFEFbwv9",
        "outputId": "83a8dc37-0b6e-4ba1-bb0a-a9d0acf76f3e"
      },
      "outputs": [
        {
          "output_type": "stream",
          "name": "stdout",
          "text": [
            "Dash is running on http://127.0.0.1:8051/\n",
            "\n"
          ]
        },
        {
          "output_type": "stream",
          "name": "stderr",
          "text": [
            "INFO:dash.dash:Dash is running on http://127.0.0.1:8051/\n",
            "\n"
          ]
        },
        {
          "output_type": "stream",
          "name": "stdout",
          "text": [
            " * Serving Flask app '__main__'\n",
            " * Debug mode: on\n"
          ]
        }
      ],
      "source": [
        "import pandas as pd\n",
        "import plotly.express as px\n",
        "import plotly.graph_objects as go\n",
        "from dash import Dash, html, dcc\n",
        "\n",
        "# read in COVID-19 data\n",
        "url = 'https://raw.githubusercontent.com/CSSEGISandData/COVID-19/master/csse_covid_19_data/csse_covid_19_time_series/time_series_covid19_deaths_global.csv'\n",
        "df = pd.read_csv(url)\n",
        "\n",
        "# preprocess data\n",
        "df = df.groupby('Country/Region').sum().reset_index()\n",
        "df = df.melt(id_vars=['Country/Region', 'Lat', 'Long'], var_name='Date', value_name='Deaths')\n",
        "df['Date'] = pd.to_datetime(df['Date'])\n",
        "df['Date'] = df['Date'].dt.strftime('%Y-%m-%d')\n",
        "df['Confirmed'] = 0\n",
        "\n",
        "# create interactive map\n",
        "fig_map = px.scatter_geo(df, lat='Lat', lon='Long', color='Deaths',\n",
        "                         hover_name='Country/Region', hover_data=['Deaths'],\n",
        "                         animation_frame='Date', projection='natural earth')\n",
        "fig_map.update_layout(title='COVID-19 Deaths by Country')\n",
        "\n",
        "# create line chart of daily cases and deaths\n",
        "df['Daily Cases'] = df.groupby('Country/Region')['Confirmed'].diff()\n",
        "df['Daily Deaths'] = df.groupby('Country/Region')['Deaths'].diff()\n",
        "fig_line = px.line(df, x='Date', y=['Daily Cases', 'Daily Deaths'], color_discrete_sequence=['blue', 'red'])\n",
        "fig_line.update_layout(title='Daily New Cases and Deaths by Country')\n",
        "\n",
        "# create dropdown menu to select countries for bar chart\n",
        "options = [{'label': i, 'value': i} for i in df['Country/Region'].unique()]\n",
        "dropdown = dcc.Dropdown(id='dropdown', options=options, value='US')\n",
        "\n",
        "# create bar chart of total cases and deaths by country\n",
        "def create_bar_chart(country):\n",
        "    df_country = df[df['Country/Region'] == country]\n",
        "    df_country = df_country.tail(1)[['Country/Region', 'Confirmed', 'Deaths']]\n",
        "    fig_bar = go.Figure(data=[go.Bar(x=['Confirmed', 'Deaths'], y=[df_country['Confirmed'].item(), df_country['Deaths'].item()], \n",
        "                                     text=[f\"{df_country['Confirmed'].item():,}\", f\"{df_country['Deaths'].item():,}\"],\n",
        "                                     textposition='auto', marker=dict(color=['#1f77b4', '#d62728']))])\n",
        "    fig_bar.update_layout(title=f'Total Cases and Deaths in {country}')\n",
        "    return fig_bar\n",
        "\n",
        "# define app layout\n",
        "app = Dash(__name__)\n",
        "app.layout = html.Div([\n",
        "    html.H1('COVID-19 Dashboard', style={'text-align': 'center'}),\n",
        "    html.Div([\n",
        "        dcc.Graph(figure=fig_map, id='map', style={'width': '50%', 'display': 'inline-block'}),\n",
        "        dcc.Graph(figure=fig_line, id='line', style={'width': '50%', 'display': 'inline-block'})\n",
        "    ]),\n",
        "    html.Div([\n",
        "        html.Div([dropdown], style={'width': '30%', 'display': 'inline-block'}),\n",
        "        html.Div(id='bar-chart', style={'width': '70%', 'display': 'inline-block'})\n",
        "    ])\n",
        "])\n",
        "\n",
        "# define app callback for bar chart\n",
        "@app.callback(\n",
        "    dash.dependencies.Output('bar-chart', 'figure'),\n",
        "    [dash.dependencies.Input('dropdown', 'value')]\n",
        ")\n",
        "def update_bar_chart(country):\n",
        "    fig_bar = create_bar_chart(country)\n",
        "    return fig_bar\n",
        "\n",
        "if __name__ == '__main__':\n",
        "  app.run_server(debug=True, port=8051)"
      ]
    }
  ]
}